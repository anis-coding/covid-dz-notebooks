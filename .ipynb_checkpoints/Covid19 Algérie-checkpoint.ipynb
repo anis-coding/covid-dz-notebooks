{
 "cells": [
  {
   "cell_type": "markdown",
   "metadata": {},
   "source": [
    "# Analyse et modélisation du CoViD19 en Algérie"
   ]
  },
  {
   "cell_type": "markdown",
   "metadata": {},
   "source": [
    "Le but de ce notebook est d'étudier la propagation du covid en Algerie, nous allons utiliser les données datante du 1er Mars 2020 avec 2 cas détéctés, au moment de la réalisation de ce notebook, il existe 90 cas et 9 décés.\n"
   ]
  },
  {
   "cell_type": "markdown",
   "metadata": {},
   "source": [
    "## Les données:\n",
    "\n",
    "J'ai réalisé manuellement un fichier csv qui contient les colonnes suivantes: date, cas/jour, cas cumul, je vais utiliser pandas pour afficher ces données, matplotlib pour les visualiser et numpy/statpy pour effectuer une regression et predire le nombre de cas.\n"
   ]
  },
  {
   "cell_type": "markdown",
   "metadata": {},
   "source": [
    "Vous pouvez télécharger les données disponible sur google sheet autant que csv: https://docs.google.com/spreadsheets/d/1uuzXTIkKs73kx6tM00kmvlxJGqBJlkFd55ijrMZ57kM/edit?usp=sharing\n"
   ]
  },
  {
   "cell_type": "code",
   "execution_count": 1,
   "metadata": {},
   "outputs": [
    {
     "name": "stdout",
     "output_type": "stream",
     "text": [
      "             0    1    2\n",
      "0            1    2    2\n",
      "1   02/03/2020    2    4\n",
      "2   03/03/2020    9   13\n",
      "3   04/03/2020    5   18\n",
      "4   05/03/2020    0   18\n",
      "5   06/03/2020    0   18\n",
      "6   07/03/2020    2   20\n",
      "7   08/03/2020    1   21\n",
      "8   09/03/2020    0   21\n",
      "9   10/03/2020    0   21\n",
      "10  11/03/2020    0   21\n",
      "11  12/03/2020    6   27\n",
      "12  13/03/2020    1   28\n",
      "13  14/03/2020   11   39\n",
      "14  15/03/2020   15   54\n",
      "15  16/03/2020    6   60\n",
      "16  17/03/2020    2   62\n",
      "17  18/03/2020   12   74\n",
      "18  19/03/2020   16   90\n",
      "19          20    4   94\n",
      "20          21   45  139\n",
      "21          22   62  201\n",
      "22          23   29  230\n",
      "23          24   34  264\n",
      "24          25   38  302\n",
      "25          26   65  367\n",
      "26          27   42  409\n",
      "27          28   45  454\n",
      "28          29   57  511\n",
      "29          30   73  584\n",
      "30          31  132  716\n"
     ]
    }
   ],
   "source": [
    "import pandas as pd\n",
    "import numpy as np\n",
    "import matplotlib as pplot\n",
    "\n",
    "data = pd.read_csv(\"covid_dz.csv\",header=None)\n",
    "print(data)"
   ]
  },
  {
   "cell_type": "markdown",
   "metadata": {},
   "source": [
    "## Un Peu de Mathématique:\n",
    "\n",
    "La propagation d'une épidémie suit un modele **logistique**, la croissance est au debut exponentielle puis à un certain moment, la propagation croit plus lentement car le nombre de cas non infécté diminue (moins de personne à infecter)\n",
    "\n",
    "Dans ce notebook on s'interesse qu'a la partie exponentielle\n",
    "\n",
    "\n",
    "\\begin{equation*}\n",
    "N(t)   = N_0 * R_0^t\n",
    "\\end{equation*}\n"
   ]
  },
  {
   "cell_type": "markdown",
   "metadata": {},
   "source": [
    "N_0 représente le nombre initiale des cas infectés, R_0 est le taux de contamination qui d'apres les données de l'OMS est entre 1.4 et 2 alors qu'une recherche à montré que ce taux est entre 2 et 3, c'est a dire chaque personne infecté peut contaminer entre 2 à 3 personnes \n"
   ]
  },
  {
   "cell_type": "markdown",
   "metadata": {},
   "source": [
    "## Visualisation:\n",
    "\n",
    "On va visualiser les cas en Algérie depuis le 1er Mars: \n",
    "\n"
   ]
  },
  {
   "cell_type": "code",
   "execution_count": 4,
   "metadata": {},
   "outputs": [
    {
     "data": {
      "text/plain": [
       "[<matplotlib.lines.Line2D at 0x7f13268a6d90>]"
      ]
     },
     "execution_count": 4,
     "metadata": {},
     "output_type": "execute_result"
    },
    {
     "data": {
      "image/png": "[encoded data removed]",
      "text/plain": [
       "<Figure size 432x288 with 1 Axes>"
      ]
     },
     "metadata": {
      "needs_background": "light"
     },
     "output_type": "display_data"
    }
   ],
   "source": [
    "from matplotlib import pyplot\n",
    "\n",
    "x = data[0]\n",
    "y = data[2]\n",
    "pyplot.plot(x,y,'b')"
   ]
  },
  {
   "cell_type": "markdown",
   "metadata": {},
   "source": [
    "On va transformer les donnés en log pour avoir une forme linéaire et effectuer une regréssion"
   ]
  },
  {
   "cell_type": "code",
   "execution_count": 5,
   "metadata": {
    "scrolled": true
   },
   "outputs": [
    {
     "name": "stdout",
     "output_type": "stream",
     "text": [
      "0     0.693147\n",
      "1     1.386294\n",
      "2     2.564949\n",
      "3     2.890372\n",
      "4     2.890372\n",
      "5     2.890372\n",
      "6     2.995732\n",
      "7     3.044522\n",
      "8     3.044522\n",
      "9     3.044522\n",
      "10    3.044522\n",
      "11    3.295837\n",
      "12    3.332205\n",
      "13    3.663562\n",
      "14    3.988984\n",
      "15    4.094345\n",
      "16    4.127134\n",
      "17    4.304065\n",
      "18    4.499810\n",
      "19    4.543295\n",
      "20    4.934474\n",
      "21    5.303305\n",
      "22    5.438079\n",
      "23    5.575949\n",
      "24    5.710427\n",
      "25    5.905362\n",
      "26    6.013715\n",
      "27    6.118097\n",
      "28    6.236370\n",
      "29    6.369901\n",
      "30    6.573680\n",
      "Name: log_cases, dtype: float64\n"
     ]
    }
   ],
   "source": [
    "data[\"log_cases\"] = np.log(data[2])\n",
    "print(data[\"log_cases\"])"
   ]
  },
  {
   "cell_type": "code",
   "execution_count": 6,
   "metadata": {},
   "outputs": [
    {
     "data": {
      "text/plain": [
       "[<matplotlib.lines.Line2D at 0x7f13267e3410>]"
      ]
     },
     "execution_count": 6,
     "metadata": {},
     "output_type": "execute_result"
    },
    {
     "data": {
      "image/png": "[encoded data removed]",
      "text/plain": [
       "<Figure size 432x288 with 1 Axes>"
      ]
     },
     "metadata": {
      "needs_background": "light"
     },
     "output_type": "display_data"
    }
   ],
   "source": [
    "pyplot.plot(x,data[\"log_cases\"],\"bo\")"
   ]
  },
  {
   "cell_type": "markdown",
   "metadata": {},
   "source": [
    "On a alors:\n",
    "\n",
    "\\begin{equation*}\n",
    "        log(N(t)) = log(N_0) + t*log(R)\n",
    "\\end{equation*}\n",
    "\n",
    "On va utiliser SciPy pour une effectuer une regression linéaire"
   ]
  },
  {
   "cell_type": "code",
   "execution_count": 10,
   "metadata": {},
   "outputs": [
    {
     "name": "stdout",
     "output_type": "stream",
     "text": [
      "a = 0.16262062696850493\n",
      "b = 1.70643004618172\n",
      "erreur 0.006583433726679422\n"
     ]
    }
   ],
   "source": [
    "from scipy import stats\n",
    "from sklearn.linear_model import LinearRegression\n",
    "\n",
    "# We put y values as the log of cases and x a number from 0 to 21\n",
    "x = np.asarray([i for i in range(0,31)])\n",
    "y = data[\"log_cases\"]\n",
    "\"\"\"\n",
    "x = x.reshape(-1,1)\n",
    "print(x)\n",
    "reg = LinearRegression().fit(x, y)\n",
    "\n",
    "print(\"with sklearn:\",reg.score(x,y))\n",
    "print(\"regression:\", reg.coef_,reg.intercept_)\n",
    "\"\"\"\n",
    "slope, intercept, r_value, p_value, std_err = stats.linregress(x,y)\n",
    "\n",
    "print(\"a =\",slope)\n",
    "print(\"b =\", intercept)\n",
    "print(\"erreur\",std_err)\n",
    "\n"
   ]
  },
  {
   "cell_type": "markdown",
   "metadata": {},
   "source": [
    "donc a = log(R) et b = log(N_0), donc ce cas, le taux de base de reproduction (de contamination) R = exp(a), et N_0 = exp(b) :\n"
   ]
  },
  {
   "cell_type": "code",
   "execution_count": 17,
   "metadata": {},
   "outputs": [
    {
     "name": "stdout",
     "output_type": "stream",
     "text": [
      "N0 5.816125707575404\n",
      "R0 1.1679004594037112\n"
     ]
    }
   ],
   "source": [
    "N0 = np.exp(intercept)\n",
    "R0 = np.exp(slope)\n",
    "print(\"N0\",N0)\n",
    "print(\"R0\",R0)"
   ]
  },
  {
   "cell_type": "markdown",
   "metadata": {},
   "source": [
    "donc le modele exponentielle associé est: \n",
    "\n",
    "\\begin{equation*}\n",
    "        N(t) = 6.0483*(1.1608)^t\n",
    "\\end{equation*}\n",
    "    "
   ]
  },
  {
   "cell_type": "code",
   "execution_count": 21,
   "metadata": {},
   "outputs": [
    {
     "name": "stdout",
     "output_type": "stream",
     "text": [
      "le 20/03 111.00551110261436\n",
      "le 21/03 129.64338741308708\n",
      "le 23/03 176.83247626849527\n",
      "le 25/03 241.19799156136025\n"
     ]
    },
    {
     "data": {
      "image/png": "[encoded data removed]",
      "text/plain": [
       "<Figure size 1080x1080 with 1 Axes>"
      ]
     },
     "metadata": {
      "needs_background": "light"
     },
     "output_type": "display_data"
    }
   ],
   "source": [
    "import math\n",
    "def N(t):\n",
    "    base = R0\n",
    "    return N0*math.pow(base,t)\n",
    "\n",
    "x = [i for i in range(0,30)]\n",
    "\n",
    "pyplot.figure(figsize=(15,15))\n",
    "\n",
    "pyplot.plot(data[0],data[2],\"bo\")\n",
    "pyplot.plot(x,[N(t) for t in x])\n",
    "\n",
    "\n",
    "print(\"le 20/03\", N(19))\n",
    "print(\"le 21/03\", N(20))\n",
    "print(\"le 23/03\", N(22))\n",
    "print(\"le 25/03\", N(24))"
   ]
  },
  {
   "cell_type": "markdown",
   "metadata": {},
   "source": [
    "## Amélioration:\n",
    "\n",
    "Ce modele n'est pas parfait et donne que des projection théorique si la croissance continue au meme rythme, mais ça reste intéréssant pour imaginer le pire cas possible.\n",
    "\n",
    "L'erreur est pour l'instant acceptable (R^2) mais les données ne sont pas suffisante, il serait plus intéréssant d'avoir des données horaires, aussi le test n'est pas exhaustive, il existe plusieurs cas non déclarés en ce moment qui peuvent etre déclaré a tout moment et donc faussé le modele. \n",
    "\n",
    "Une étude plus correcte serait de suivre un modele logistique (un fonction sigmoid ou tanh) pour prédire la stabilisation.\n",
    "\n",
    "D'autre modele basé sur des equation différentielle existe comme le model RIS."
   ]
  },
  {
   "cell_type": "markdown",
   "metadata": {},
   "source": [
    ">>Par Annis Souames"
   ]
  },
  {
   "cell_type": "code",
   "execution_count": null,
   "metadata": {},
   "outputs": [],
   "source": []
  }
 ],
 "metadata": {
  "kernelspec": {
   "display_name": "Python 3",
   "language": "python",
   "name": "python3"
  },
  "language_info": {
   "codemirror_mode": {
    "name": "ipython",
    "version": 3
   },
   "file_extension": ".py",
   "mimetype": "text/x-python",
   "name": "python",
   "nbconvert_exporter": "python",
   "pygments_lexer": "ipython3",
   "version": "3.7.4"
  }
 },
 "nbformat": 4,
 "nbformat_minor": 2
}
